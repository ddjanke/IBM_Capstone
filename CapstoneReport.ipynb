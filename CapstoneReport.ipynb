{
 "cells": [
  {
   "cell_type": "markdown",
   "metadata": {},
   "source": [
    "# Introduction\n",
    "Atlanta as had a huge real estate boom over the past decade. These days, building cranes can always be seen across downtown, and it doesn't show any sign of slowing down. With many wanting to capitalize on the rapid growth of Atlanta, the question many are asking is \"Where is the best place to build?\".  \n",
    "\n",
    "It is common sense that the areas closest to downtown will be able to charge the most. However, this also means a significant up-front investment in order to acquire and build, and the location may not be very desirable since crime rates tend to be higher in large cities, especially Atlanta, which has a safety rating of 2/100 according to [^1]. Careful consideration needs to be given to deciding where to build a set of apartments; future landlords will need to balance common factors such as school performance, crime rates, and nearby businesses to ensure they are well suited to please their tenants. \n",
    "\n",
    "In this report, I will explore data related to important factors that people usually take into account when choosing a place to live. Using this information, I plan to predict the average rating that an apartment complex can expect to receive based on its surroundings. I will then recommend which zip codes in Atlanta would best place to build in order to take part in the booming housing market. The reason I plan to rely on ratings as a good indicator is that if a complex can expect a higher rating based solely on location, their main responsibility would be to increase the rating through customer satisfaction. A high rating will lead to more interest and will allow them to increase their prices over time.\n",
    "\n",
    "[^1]: https://www.neighborhoodscout.com/ga/atlanta/crime"
   ]
  },
  {
   "cell_type": "markdown",
   "metadata": {},
   "source": [
    "# Data\n",
    "There is a significant amount of data availble to the public to tell a story about a location. Usually, police departments keep a record of crimes available for download on their web page, and school performance ratings are also free to access. I will be using the following data for my analysis:\n",
    "\n",
    "Crime - https://www.atlantapd.org/i-want-to/crime-data-downloads  \n",
    "This is a dataset of crimes that the atlanta police department has collected. I will use this data to determine the average crime rates around various apartment buildings in Atlanta.  \n",
    "\n",
    "Schools - https://schoolgrades.georgia.gov/dataset/school-level-data  \n",
    "Georgia has kept a record of performance for each school based on standardized testing and grades. I will be using the overall scores for these schools to see if there is an association between apartment ratings and school ratings.  \n",
    "\n",
    "Venues - https://developer.foursquare.com/docs/api  \n",
    "By associating each apartment complex with the most common venues nearby, we can determine if there is a pattern in how the nearby businesses affect people's perception of an apartment.\n",
    "\n",
    "Real Estate - https://www.zillow.com/howto/api/APIOverview.htm  \n",
    "Using the Zillow API, I will get information on the lots and land for sale near the Metro Atlanta area. I will use the model formed from the data above to predict the rating an apartment built at any of these locations would receive solely based on its proximity and location data.\n",
    "\n",
    "GeoJSON zip codes - https://github.com/OpenDataDE/State-zip-code-GeoJSON  \n",
    "This is a collection of GeoJSON files for zip codes across the United States. This may be useful for visualization purposes."
   ]
  },
  {
   "cell_type": "code",
   "execution_count": null,
   "metadata": {},
   "outputs": [],
   "source": []
  }
 ],
 "metadata": {
  "kernelspec": {
   "display_name": "Python 3",
   "language": "python",
   "name": "python3"
  },
  "language_info": {
   "codemirror_mode": {
    "name": "ipython",
    "version": 3
   },
   "file_extension": ".py",
   "mimetype": "text/x-python",
   "name": "python",
   "nbconvert_exporter": "python",
   "pygments_lexer": "ipython3",
   "version": "3.7.3"
  }
 },
 "nbformat": 4,
 "nbformat_minor": 2
}
